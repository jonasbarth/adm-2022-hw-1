{
 "cells": [
  {
   "cell_type": "markdown",
   "id": "78f810bf",
   "metadata": {},
   "source": [
    "# 1 python-arithmetic operators\n",
    "https://www.hackerrank.com/challenges/python-arithmetic-operators?isFullScreen=true"
   ]
  },
  {
   "cell_type": "code",
   "execution_count": null,
   "id": "a9ca9f54",
   "metadata": {},
   "outputs": [],
   "source": [
    "if __name__ == '__main__':\n",
    "    a = int(input())\n",
    "    b = int(input())\n",
    "    print(a + b)\n",
    "    print(a - b)\n",
    "    print(a * b)"
   ]
  },
  {
   "cell_type": "markdown",
   "id": "aabed79f",
   "metadata": {},
   "source": [
    "# 2 python-division\n",
    "https://www.hackerrank.com/challenges/python-division/problem?isFullScreen=true"
   ]
  },
  {
   "cell_type": "code",
   "execution_count": null,
   "id": "fd10becd",
   "metadata": {},
   "outputs": [],
   "source": [
    "if __name__ == '__main__':\n",
    "    a = int(input())\n",
    "    b = int(input())\n",
    "    print(a // b)\n",
    "    print(a / b)"
   ]
  },
  {
   "cell_type": "markdown",
   "id": "f646b087",
   "metadata": {},
   "source": [
    "# 3 py-hello-world\n",
    "https://www.hackerrank.com/challenges/py-hello-world/problem"
   ]
  },
  {
   "cell_type": "code",
   "execution_count": null,
   "id": "a6429022",
   "metadata": {},
   "outputs": [],
   "source": [
    "if __name__ == '__main__':\n",
    "    print(\"Hello, World!\")"
   ]
  },
  {
   "cell_type": "markdown",
   "id": "13299874",
   "metadata": {},
   "source": [
    "# 4 py-if-else\n",
    "https://www.hackerrank.com/challenges/py-if-else/problem"
   ]
  },
  {
   "cell_type": "code",
   "execution_count": null,
   "id": "f928f796",
   "metadata": {},
   "outputs": [],
   "source": [
    "#!/bin/python3\n",
    "\n",
    "import math\n",
    "import os\n",
    "import random\n",
    "import re\n",
    "import sys\n",
    "\n",
    "        \n",
    "def is_odd(n):\n",
    "    return n % 2 == 1\n",
    "\n",
    "def is_in_inclusive_range(start, end, n):\n",
    "    return n in range(start, end + 1)\n",
    "\n",
    "if __name__ == '__main__':\n",
    "    n = int(input().strip())\n",
    "    if is_odd(n):\n",
    "        print(\"Weird\")\n",
    "        sys.exit()\n",
    "\n",
    "    if is_in_inclusive_range(2, 5, n):\n",
    "        print(\"Not Weird\")\n",
    "        \n",
    "    if is_in_inclusive_range(6, 20, n):\n",
    "        print(\"Weird\")\n",
    "        \n",
    "    if n > 20:\n",
    "        print(\"Not Weird\")"
   ]
  },
  {
   "cell_type": "markdown",
   "id": "6d2a4ae3",
   "metadata": {},
   "source": [
    "# 5 python-loops\n",
    "https://www.hackerrank.com/challenges/python-loops/problem"
   ]
  },
  {
   "cell_type": "code",
   "execution_count": null,
   "id": "683d1e27",
   "metadata": {},
   "outputs": [],
   "source": [
    "if __name__ == '__main__':\n",
    "    n = int(input())\n",
    "    for i in range(n):\n",
    "        print(i**2)"
   ]
  },
  {
   "cell_type": "markdown",
   "id": "6dc1966c",
   "metadata": {},
   "source": [
    "# 6 python-print\n",
    "https://www.hackerrank.com/challenges/python-print/problem"
   ]
  },
  {
   "cell_type": "code",
   "execution_count": null,
   "id": "a8844852",
   "metadata": {},
   "outputs": [],
   "source": [
    "if __name__ == '__main__':\n",
    "    n = int(input())\n",
    "    string = \"\"\n",
    "    for i in range(1, n + 1):\n",
    "        string += str(i)\n",
    "        \n",
    "    print(string)"
   ]
  },
  {
   "cell_type": "markdown",
   "id": "d1982423",
   "metadata": {},
   "source": [
    "# 7 write-a-function\n",
    "https://www.hackerrank.com/challenges/write-a-function/problem"
   ]
  },
  {
   "cell_type": "code",
   "execution_count": null,
   "id": "ef5b8b37",
   "metadata": {},
   "outputs": [],
   "source": [
    "def is_leap(year):\n",
    "    leap = False\n",
    "    \n",
    "    if year % 4 == 0:\n",
    "        leap = True\n",
    "        if year % 100 == 0:\n",
    "            leap = False\n",
    "            if year % 400 == 0:\n",
    "                leap = True\n",
    "    # Write your logic here\n",
    "    \n",
    "    return leap\n",
    "\n",
    "year = int(input())\n",
    "print(is_leap(year))"
   ]
  },
  {
   "cell_type": "markdown",
   "id": "16975fbe",
   "metadata": {},
   "source": [
    "# 8 finding-the-percentage\n",
    "https://www.hackerrank.com/challenges/finding-the-percentage/problem"
   ]
  },
  {
   "cell_type": "code",
   "execution_count": null,
   "id": "232b5040",
   "metadata": {},
   "outputs": [],
   "source": [
    "if __name__ == '__main__':\n",
    "    n = int(input())\n",
    "    student_marks = {}\n",
    "    for _ in range(n):\n",
    "        name, *line = input().split()\n",
    "        scores = list(map(float, line))\n",
    "        student_marks[name] = scores\n",
    "    query_name = input()\n",
    "    \n",
    "    mark = student_marks[query_name]\n",
    "    average = sum(mark) / len(mark)\n",
    "    print(\"%.2f\" % (average))"
   ]
  },
  {
   "cell_type": "markdown",
   "id": "ddb1f0b0",
   "metadata": {},
   "source": [
    "# 9 python-lists\n",
    "https://www.hackerrank.com/challenges/python-lists/problem"
   ]
  },
  {
   "cell_type": "code",
   "execution_count": null,
   "id": "8d59b6e1",
   "metadata": {},
   "outputs": [],
   "source": [
    "if __name__ == '__main__':\n",
    "    N = int(input())\n",
    "\n",
    "    arr = []\n",
    "    for _ in range(N):\n",
    "        command_input = input().split()\n",
    "        command_name = command_input[0]\n",
    "        \n",
    "        if command_name == 'insert':\n",
    "            arr.insert(int(command_input[1]), int(command_input[2]))\n",
    "        elif command_name == 'print':\n",
    "            print(arr)\n",
    "        elif command_name == 'remove':\n",
    "            arr.remove(int(command_input[1]))\n",
    "        elif command_name == 'append':\n",
    "            arr.append(int(command_input[1]))\n",
    "        elif command_name == 'sort':\n",
    "            arr.sort()\n",
    "        elif command_name == 'pop':\n",
    "            arr.pop()\n",
    "        elif command_name == 'reverse':\n",
    "            arr.reverse()"
   ]
  },
  {
   "cell_type": "markdown",
   "id": "156bdadf",
   "metadata": {},
   "source": [
    "# 10 nested-list\n",
    "https://www.hackerrank.com/challenges/nested-list/problem"
   ]
  },
  {
   "cell_type": "code",
   "execution_count": null,
   "id": "8a6da0d7",
   "metadata": {},
   "outputs": [],
   "source": [
    "if __name__ == '__main__':\n",
    "    students = []\n",
    "    \n",
    "    for _ in range(int(input())):\n",
    "        name = input()\n",
    "        score = float(input())\n",
    "        students.append([name, score])\n",
    "        \n",
    "    students.sort(key = lambda student: student[1])\n",
    "    lowest_score = students[0][1]\n",
    "    \n",
    "    lowest_removed = list(filter(lambda student: student[1] > lowest_score, students))\n",
    "\n",
    "    new_lowest_score = lowest_removed[0][1]\n",
    "    \n",
    "    second_lowest_scores = list(filter(lambda student: student[1] == new_lowest_score, lowest_removed))\n",
    "    \n",
    "    second_lowest_scores.sort(key = lambda student: student[0])\n",
    "    \n",
    "    for student in second_lowest_scores:\n",
    "        print(student[0])"
   ]
  },
  {
   "cell_type": "markdown",
   "id": "3dd70860",
   "metadata": {},
   "source": [
    "# 11 find-second-maximum-number-in-a-list\n",
    "https://www.hackerrank.com/challenges/find-second-maximum-number-in-a-list/problem"
   ]
  },
  {
   "cell_type": "code",
   "execution_count": null,
   "id": "9e29c918",
   "metadata": {},
   "outputs": [],
   "source": [
    "if __name__ == '__main__':\n",
    "    n = int(input())\n",
    "    arr = map(int, input().split())\n",
    "    print(sorted(set(arr))[-2])"
   ]
  },
  {
   "cell_type": "markdown",
   "id": "0f9d7c98",
   "metadata": {},
   "source": [
    "# 12 python-tuples\n",
    "https://www.hackerrank.com/challenges/python-tuples/problem"
   ]
  },
  {
   "cell_type": "code",
   "execution_count": null,
   "id": "61c5ab89",
   "metadata": {},
   "outputs": [],
   "source": [
    "if __name__ == '__main__':\n",
    "    n = int(input())\n",
    "    integer_list = map(int, input().split())\n",
    "    print(hash(tuple(integer_list)))"
   ]
  },
  {
   "cell_type": "markdown",
   "id": "9715b6d6",
   "metadata": {},
   "source": [
    "# 13 alphabet-rangoli\n",
    "https://www.hackerrank.com/challenges/alphabet-rangoli/problem"
   ]
  },
  {
   "cell_type": "code",
   "execution_count": null,
   "id": "86bf38b4",
   "metadata": {},
   "outputs": [],
   "source": [
    "import string\n",
    "\n",
    "def print_rangoli(size):\n",
    "    # your code goes here\n",
    "    alphabet = string.ascii_lowercase\n",
    "    n_rows = size\n",
    "  \n",
    "    \n",
    "    rows = []\n",
    "    for n in range(1, n_rows + 1):\n",
    "        before = alphabet[size - 1:size - n:-1]\n",
    "        after = before[::-1]\n",
    "        \n",
    "        start_char = alphabet[size - n]\n",
    "        full = before + start_char + after\n",
    "        \n",
    "        rows.append('-'.join(list(full)).center(size * 4 - 3, '-'))\n",
    "        \n",
    "        \n",
    "    for row in rows:\n",
    "        print(row)\n",
    "        \n",
    "    for row in rows[::-1][1:]:\n",
    "        print(row)\n",
    "\n",
    "if __name__ == '__main__':\n",
    "    n = int(input())\n",
    "    print_rangoli(n)"
   ]
  },
  {
   "cell_type": "markdown",
   "id": "3ecdddaf",
   "metadata": {},
   "source": [
    "# 14 capitalize\n",
    "https://www.hackerrank.com/challenges/capitalize/problem"
   ]
  },
  {
   "cell_type": "code",
   "execution_count": null,
   "id": "d39b8ad8",
   "metadata": {},
   "outputs": [],
   "source": [
    "#!/bin/python3\n",
    "\n",
    "import math\n",
    "import os\n",
    "import random\n",
    "import re\n",
    "import sys\n",
    "\n",
    "# Complete the solve function below.\n",
    "def solve(s):\n",
    "    result = []\n",
    "\n",
    "    previous_char = ' '\n",
    "    for char in list(s):\n",
    "        if char.isalpha() and previous_char == ' ':\n",
    "            result.append(f'{char.upper()}')\n",
    "        else:\n",
    "            result.append(char)\n",
    "        \n",
    "        previous_char = char\n",
    "         \n",
    "    return ''.join(result)\n",
    "\n",
    "if __name__ == '__main__':\n",
    "    fptr = open(os.environ['OUTPUT_PATH'], 'w')\n",
    "\n",
    "    s = input()\n",
    "\n",
    "    result = solve(s)\n",
    "\n",
    "    fptr.write(result + '\\n')\n",
    "\n",
    "    fptr.close()"
   ]
  },
  {
   "cell_type": "markdown",
   "id": "fe4df998",
   "metadata": {},
   "source": [
    "# 15 designer-door-mat\n",
    " https://www.hackerrank.com/challenges/designer-door-mat/problem"
   ]
  },
  {
   "cell_type": "code",
   "execution_count": null,
   "id": "4bb259bf",
   "metadata": {},
   "outputs": [],
   "source": [
    "# Enter your code here. Read input from STDIN. Print output to STDOUT\n",
    "if __name__ == '__main__':\n",
    "    height, width = input().split()\n",
    "    height = int(height)\n",
    "    width = int(width)\n",
    "    \n",
    "    n_rows = (height - 1) // 2\n",
    "    \n",
    "    rows = []\n",
    "    for i in range(n_rows):\n",
    "        middle = i * 2 * '..|'\n",
    "        rows.append(f'.|{middle}.'.center(width, '-'))        \n",
    "    \n",
    "    for row in rows:\n",
    "        print(row)\n",
    "    print('WELCOME'.center(width, '-'))\n",
    "    \n",
    "    for row in rows[::-1]:\n",
    "        print(row)"
   ]
  },
  {
   "cell_type": "markdown",
   "id": "b1a22357",
   "metadata": {},
   "source": [
    "# 16 find-a-string\n",
    "https://www.hackerrank.com/challenges/find-a-string/problem"
   ]
  },
  {
   "cell_type": "code",
   "execution_count": null,
   "id": "834ff02c",
   "metadata": {},
   "outputs": [],
   "source": [
    "def count_substring(string, sub_string):\n",
    "    count = 0\n",
    "    for i in range(len(string)):\n",
    "        if string[i:].startswith(sub_string):\n",
    "            count += 1\n",
    "    return count\n",
    "\n",
    "if __name__ == '__main__':\n",
    "    string = input().strip()\n",
    "    sub_string = input().strip()\n",
    "    \n",
    "    count = count_substring(string, sub_string)\n",
    "    print(count)"
   ]
  },
  {
   "cell_type": "markdown",
   "id": "6219dbf9",
   "metadata": {},
   "source": [
    "# 17 merge-the-tools\n",
    "https://www.hackerrank.com/challenges/merge-the-tools/problem"
   ]
  },
  {
   "cell_type": "code",
   "execution_count": null,
   "id": "824ebd87",
   "metadata": {},
   "outputs": [],
   "source": [
    "def merge_the_tools(string, k):\n",
    "    # your code goes here\n",
    "    substrings = [string[i:i+k] for i in range(0, len(string), k)]\n",
    "    substrings = [set(list(s)) for s in substrings]\n",
    "    \n",
    "    for substring in substrings:\n",
    "        print(''.join(substring))\n",
    "\n",
    "if __name__ == '__main__':\n",
    "    string, k = input(), int(input())\n",
    "    merge_the_tools(string, k)"
   ]
  },
  {
   "cell_type": "markdown",
   "id": "3a9661d1",
   "metadata": {},
   "source": [
    "# 18 the-minion-game\n",
    "https://www.hackerrank.com/challenges/the-minion-game/problem"
   ]
  },
  {
   "cell_type": "code",
   "execution_count": null,
   "id": "99eb72c7",
   "metadata": {},
   "outputs": [],
   "source": [
    "from itertools import combinations\n",
    "from functools import reduce\n",
    "\n",
    "def minion_game(string):\n",
    "    # your code goes here\n",
    "    res = [string[i:j] for i, j in combinations(range(len(string) + 1), r = 2)]\n",
    "    \n",
    "    vowels = ['A', 'E', 'I', 'O', 'U']\n",
    "    \n",
    "    kevin_words = list(filter(lambda string: string[0] in vowels, res))\n",
    "    kevin_count = {word : kevin_words.count(word) for word in kevin_words}\n",
    "    kevin_total = reduce(lambda a, b : a + b, kevin_count.values())\n",
    "    \n",
    "    stuart_words = list(filter(lambda string: string[0] not in vowels, res))\n",
    "    stuart_count = {word : stuart_words.count(word) for word in stuart_words}\n",
    "    stuart_total = reduce(lambda a, b : a + b, stuart_count.values())\n",
    "    \n",
    "    if stuart_total > kevin_total:\n",
    "        print(f\"Stuart {stuart_total}\")\n",
    "    elif kevin_total < stuart_total:\n",
    "        print(f\"Kevin {kevin_total}\")\n",
    "    else:\n",
    "        print(\"Draw\")\n",
    "\n",
    "if __name__ == '__main__':\n",
    "    s = input()\n",
    "    minion_game(s) "
   ]
  },
  {
   "cell_type": "markdown",
   "id": "b591883c",
   "metadata": {},
   "source": [
    "# 19 python-mutations\n",
    "https://www.hackerrank.com/challenges/python-mutations/problem"
   ]
  },
  {
   "cell_type": "code",
   "execution_count": null,
   "id": "dea0ec3d",
   "metadata": {},
   "outputs": [],
   "source": [
    "def mutate_string(string, position, character):\n",
    "    return string[:position] + character + string[position + 1:]\n",
    "\n",
    "if __name__ == '__main__':\n",
    "    s = input()\n",
    "    i, c = input().split()\n",
    "    s_new = mutate_string(s, int(i), c)\n",
    "    print(s_new)"
   ]
  },
  {
   "cell_type": "markdown",
   "id": "158ac0ef",
   "metadata": {},
   "source": [
    "# 20 python-string-split-and-join\n",
    "https://www.hackerrank.com/challenges/python-string-split-and-join/problem"
   ]
  },
  {
   "cell_type": "code",
   "execution_count": null,
   "id": "839d51e8",
   "metadata": {},
   "outputs": [],
   "source": [
    "def split_and_join(line):\n",
    "    # write your code here\n",
    "    line = line.split()\n",
    "    return '-'.join(line)\n",
    "\n",
    "if __name__ == '__main__':\n",
    "    line = input()\n",
    "    result = split_and_join(line)\n",
    "    print(result)"
   ]
  },
  {
   "cell_type": "markdown",
   "id": "9d5854e1",
   "metadata": {},
   "source": [
    "# 21 python-string-formatting\n",
    "https://www.hackerrank.com/challenges/python-string-formatting/problem"
   ]
  },
  {
   "cell_type": "code",
   "execution_count": null,
   "id": "ea65f683",
   "metadata": {},
   "outputs": [],
   "source": [
    "def print_formatted(number):\n",
    "    bin_len = len(format(number, \"b\"))\n",
    "    for i in range(1, number + 1):\n",
    "        # your code goes here\n",
    "        dec = format(i, \"d\")\n",
    "        octal = format(i, \"o\")\n",
    "        hexa = format(i, \"X\")\n",
    "        binary = format(i, \"b\")\n",
    "      \n",
    "        print(f'{dec.rjust(bin_len)} {octal.rjust(bin_len)} {hexa.rjust(bin_len)} {binary.rjust(bin_len)}')\n",
    "\n",
    "if __name__ == '__main__':\n",
    "    n = int(input())\n",
    "    print_formatted(n)"
   ]
  },
  {
   "cell_type": "markdown",
   "id": "05bf7a25",
   "metadata": {},
   "source": [
    "# 22 string-validators\n",
    "https://www.hackerrank.com/challenges/string-validators/problem"
   ]
  },
  {
   "cell_type": "code",
   "execution_count": null,
   "id": "03c6fbaf",
   "metadata": {},
   "outputs": [],
   "source": [
    "def has_alnum(string):\n",
    "    return True in [char.isalnum() for char in string]\n",
    "\n",
    "def has_alpha(string):\n",
    "    return True in [char.isalpha() for char in string]\n",
    "        \n",
    "def has_digit(string):\n",
    "    return True in [char.isdigit() for char in string]\n",
    "\n",
    "def has_lower(string):\n",
    "    return True in [char.islower() for char in string]\n",
    "        \n",
    "def has_upper(string):\n",
    "    return True in [char.isupper() for char in string]\n",
    "        \n",
    "\n",
    "if __name__ == '__main__':\n",
    "    s = input()\n",
    "    \n",
    "    results = [has_alnum(s), has_alpha(s), has_digit(s), has_lower(s), has_upper(s)]\n",
    "    \n",
    "    for result in results:\n",
    "        print(result)"
   ]
  },
  {
   "cell_type": "markdown",
   "id": "bb4af63f",
   "metadata": {},
   "source": [
    "# 23 swap-case\n",
    "https://www.hackerrank.com/challenges/swap-case/problem"
   ]
  },
  {
   "cell_type": "code",
   "execution_count": null,
   "id": "8cc34f7c",
   "metadata": {},
   "outputs": [],
   "source": [
    "def swap_case(s):\n",
    "    new_string = []\n",
    "    for char in s:\n",
    "        if char.isupper():\n",
    "            new_string.append(char.lower())\n",
    "        elif char.islower():\n",
    "            new_string.append(char.upper())\n",
    "        else:\n",
    "            new_string.append(char)\n",
    "            \n",
    "    return ''.join(new_string)\n",
    "\n",
    "if __name__ == '__main__':\n",
    "    s = input()\n",
    "    result = swap_case(s)\n",
    "    print(result)"
   ]
  },
  {
   "cell_type": "markdown",
   "id": "3c3ed6f4",
   "metadata": {},
   "source": [
    "# 24 text-wrap\n",
    "https://www.hackerrank.com/challenges/text-wrap/problem"
   ]
  },
  {
   "cell_type": "code",
   "execution_count": null,
   "id": "13d36189",
   "metadata": {},
   "outputs": [],
   "source": [
    "import textwrap\n",
    "\n",
    "def wrap(string, max_width):\n",
    "    result = ''\n",
    "    for i in range(0, len(string), max_width):\n",
    "        result += string[i:i + max_width] + '\\n'\n",
    "    return result\n",
    "\n",
    "if __name__ == '__main__':\n",
    "    string, max_width = input(), int(input())\n",
    "    result = wrap(string, max_width)\n",
    "    print(result)"
   ]
  },
  {
   "cell_type": "markdown",
   "id": "eda31c5a",
   "metadata": {},
   "source": [
    "# 25 whats-your-name\n",
    "https://www.hackerrank.com/challenges/whats-your-name/problem"
   ]
  },
  {
   "cell_type": "code",
   "execution_count": null,
   "id": "21f1c05d",
   "metadata": {},
   "outputs": [],
   "source": [
    "#\n",
    "# Complete the 'print_full_name' function below.\n",
    "#\n",
    "# The function is expected to return a STRING.\n",
    "# The function accepts following parameters:\n",
    "#  1. STRING first\n",
    "#  2. STRING last\n",
    "#\n",
    "\n",
    "def print_full_name(first, last):\n",
    "    # Write your code here\n",
    "    print(f'Hello {first} {last}! You just delved into python.')\n",
    "\n",
    "if __name__ == '__main__':\n",
    "    first_name = input()\n",
    "    last_name = input()\n",
    "    print_full_name(first_name, last_name)"
   ]
  },
  {
   "cell_type": "markdown",
   "id": "c34f5dfa",
   "metadata": {},
   "source": [
    "# 26 most-commons\n",
    "https://www.hackerrank.com/challenges/most-commons/problem"
   ]
  },
  {
   "cell_type": "code",
   "execution_count": null,
   "id": "6205da7e",
   "metadata": {},
   "outputs": [],
   "source": [
    "#!/bin/python3\n",
    "\n",
    "import math\n",
    "import os\n",
    "import random\n",
    "import re\n",
    "import sys\n",
    "from itertools import islice\n",
    "\n",
    "if __name__ == '__main__':\n",
    "    s = sorted(input())\n",
    "    char_count = {}\n",
    "    for char in s:\n",
    "        try:\n",
    "            char_count[char] += 1\n",
    "        except KeyError:\n",
    "            char_count[char] = 1\n",
    "            \n",
    "    sorted_char_count = {char: count for char, count in sorted(char_count.items(), key=lambda item: item[1], reverse=True)}\n",
    "    \n",
    "    top_three = dict(islice(sorted_char_count.items(), 3))\n",
    "    \n",
    "    chars_with_same_value = [char ]\n",
    "    for char, count in top_three.items():\n",
    "        print(char, count)"
   ]
  },
  {
   "cell_type": "markdown",
   "id": "b75321f1",
   "metadata": {},
   "source": [
    "# 27 collections-counter\n",
    "https://www.hackerrank.com/challenges/collections-counter"
   ]
  },
  {
   "cell_type": "code",
   "execution_count": null,
   "id": "5315c7fe",
   "metadata": {},
   "outputs": [],
   "source": [
    "# Enter your code here. Read input from STDIN. Print output to STDOUT\n",
    "from collections import Counter\n",
    "\n",
    "if __name__ == '__main__':\n",
    "    n_shoes = int(input())\n",
    "    shoe_sizes = Counter(list(map(int, input().split())))\n",
    "    \n",
    "    n_customers = int(input())\n",
    "\n",
    "    money_earned = 0\n",
    "    for _ in range(n_customers):\n",
    "        wanted_size, price = list(map(int, input().split()))\n",
    "        if shoe_sizes[wanted_size] > 0:\n",
    "            money_earned += price\n",
    "            shoe_sizes[wanted_size] -= 1\n",
    "            \n",
    "    print(money_earned)"
   ]
  },
  {
   "cell_type": "markdown",
   "id": "8d7cf6a8",
   "metadata": {},
   "source": [
    "# 28 defaultdict-tutorial\n",
    "https://www.hackerrank.com/challenges/defaultdict-tutorial"
   ]
  },
  {
   "cell_type": "code",
   "execution_count": null,
   "id": "ec2ad872",
   "metadata": {},
   "outputs": [],
   "source": [
    "# Enter your code here. Read input from STDIN. Print output to STDOUT\n",
    "from collections import defaultdict\n",
    "\n",
    "def create_word_index_map(length):\n",
    "    word_index_map = {}\n",
    "    for i in range(length):\n",
    "        word = input()\n",
    "        try:\n",
    "            word_index_map[word].append(i + 1)\n",
    "        except KeyError:\n",
    "            word_index_map[word] = [i + 1]\n",
    "\n",
    "    return word_index_map\n",
    "\n",
    "if __name__ == '__main__':\n",
    "    n, m = tuple(map(int, input().split()))\n",
    "   \n",
    "    words_a_map = create_word_index_map(n)\n",
    "    \n",
    "    for _ in range(m):\n",
    "        word_b = input()\n",
    "        try:\n",
    "            print(' '.join(list(map(str, words_a_map[word_b]))))\n",
    "            \n",
    "        except KeyError:\n",
    "            print(-1)"
   ]
  },
  {
   "cell_type": "markdown",
   "id": "64302b84",
   "metadata": {},
   "source": [
    "# 29 py-collections-deque\n",
    "https://www.hackerrank.com/challenges/py-collections-deque"
   ]
  },
  {
   "cell_type": "code",
   "execution_count": null,
   "id": "492aa802",
   "metadata": {},
   "outputs": [],
   "source": [
    "# Enter your code here. Read input from STDIN. Print output to STDOUT\n",
    "from collections import deque\n",
    "\n",
    "if __name__ == '__main__':\n",
    "    d = deque()\n",
    "    method_calls = {}\n",
    "    method_calls[d.append.__name__] = d.append\n",
    "    method_calls[d.appendleft.__name__] = d.appendleft\n",
    "    method_calls[d.pop.__name__] = d.pop\n",
    "    method_calls[d.popleft.__name__] = d.popleft\n",
    "    \n",
    "    n_operations = int(input())\n",
    "    \n",
    "    for _ in range(n_operations):\n",
    "        operation = list(input().split())\n",
    "        if len(operation) > 1:\n",
    "            argument = int(operation[-1])\n",
    "            operation = operation[0]\n",
    "            method_calls[operation](argument)\n",
    "        \n",
    "        else:\n",
    "            method_calls[operation[0]]()\n",
    "    \n",
    "    print(' '.join(list(map(lambda item : str(item), d))))"
   ]
  },
  {
   "cell_type": "markdown",
   "id": "f8cc7df7",
   "metadata": {},
   "source": [
    "# 30 py-collections-namedtuble\n",
    "https://www.hackerrank.com/challenges/py-collections-namedtuple"
   ]
  },
  {
   "cell_type": "code",
   "execution_count": null,
   "id": "9aec40cb",
   "metadata": {},
   "outputs": [],
   "source": [
    "# Enter your code here. Read input from STDIN. Print output to STDOUT\n",
    "from collections import namedtuple\n",
    "\n",
    "if __name__ == '__main__':\n",
    "    \n",
    "    n_students = int(input())\n",
    "    marks_index = list(input().split()).index('MARKS')\n",
    "    \n",
    "    all_marks = [int(list(input().split())[marks_index]) for _ in range(n_students)]\n",
    "        \n",
    "    print(sum(all_marks) / len(all_marks))"
   ]
  },
  {
   "cell_type": "markdown",
   "id": "926cda8f",
   "metadata": {},
   "source": [
    "# 31 py-collections-ordereddict\n",
    "https://www.hackerrank.com/challenges/py-collections-ordereddict"
   ]
  },
  {
   "cell_type": "code",
   "execution_count": null,
   "id": "0f597786",
   "metadata": {},
   "outputs": [],
   "source": [
    "# Enter your code here. Read input from STDIN. Print output to STDOUT\n",
    "from collections import OrderedDict\n",
    "\n",
    "if __name__ == '__main__':\n",
    "    n_items = int(input())\n",
    "    \n",
    "    items_to_prices = OrderedDict()\n",
    "    \n",
    "    for _ in range(n_items):\n",
    "        item_and_price = list(input().split())\n",
    "        item = ' '.join(item_and_price[:-1])\n",
    "        price = int(item_and_price[-1])\n",
    "        \n",
    "        try:\n",
    "            items_to_prices[item] += price\n",
    "        except KeyError:\n",
    "            items_to_prices[item] = price\n",
    "            \n",
    "    for item_price in items_to_prices:\n",
    "        print(item_price, items_to_prices[item_price])"
   ]
  },
  {
   "cell_type": "markdown",
   "id": "6760318f",
   "metadata": {},
   "source": [
    "# 32 word-order\n",
    "https://www.hackerrank.com/challenges/word-order"
   ]
  },
  {
   "cell_type": "code",
   "execution_count": null,
   "id": "2432d679",
   "metadata": {},
   "outputs": [],
   "source": [
    "# Enter your code here. Read input from STDIN. Print output to STDOUT\n",
    "from collections import OrderedDict\n",
    "\n",
    "if __name__ == '__main__':\n",
    "    n_words = int(input())\n",
    "    \n",
    "    distinct_word_count = OrderedDict()\n",
    "    for _ in range(n_words):\n",
    "        word = input().rstrip('\\n')\n",
    "        try:\n",
    "            distinct_word_count[word] += 1\n",
    "        except KeyError:\n",
    "            distinct_word_count[word] = 1\n",
    "            \n",
    "    print(len(distinct_word_count))\n",
    "    \n",
    "    print(' '.join(list(map(lambda word_count : str(word_count[1]), distinct_word_count.items()))))"
   ]
  },
  {
   "cell_type": "markdown",
   "id": "701b4b70",
   "metadata": {},
   "source": [
    "# 33 py-set-add\n",
    "https://www.hackerrank.com/challenges/py-set-add/problem"
   ]
  },
  {
   "cell_type": "code",
   "execution_count": null,
   "id": "ddf843a4",
   "metadata": {},
   "outputs": [],
   "source": [
    "# Enter your code here. Read input from STDIN. Print output to STDOUT\n",
    "\n",
    "if __name__ == '__main__':\n",
    "    n = int(input())\n",
    "    \n",
    "    countries = set()\n",
    "    for _ in range(n):\n",
    "        countries.add(input())\n",
    "        \n",
    "    print(len(countries))"
   ]
  },
  {
   "cell_type": "markdown",
   "id": "61df63ad",
   "metadata": {},
   "source": [
    "# 34 py-the-captains-room\n",
    " https://www.hackerrank.com/challenges/py-the-captains-room/problem"
   ]
  },
  {
   "cell_type": "code",
   "execution_count": 1,
   "id": "b87002cf",
   "metadata": {},
   "outputs": [
    {
     "name": "stdout",
     "output_type": "stream",
     "text": [
      "sad\n"
     ]
    },
    {
     "ename": "ValueError",
     "evalue": "invalid literal for int() with base 10: 'sad'",
     "output_type": "error",
     "traceback": [
      "\u001b[1;31m---------------------------------------------------------------------------\u001b[0m",
      "\u001b[1;31mValueError\u001b[0m                                Traceback (most recent call last)",
      "Cell \u001b[1;32mIn [1], line 4\u001b[0m\n\u001b[0;32m      1\u001b[0m \u001b[38;5;66;03m# Enter your code here. Read input from STDIN. Print output to STDOUT\u001b[39;00m\n\u001b[0;32m      3\u001b[0m \u001b[38;5;28;01mif\u001b[39;00m \u001b[38;5;18m__name__\u001b[39m \u001b[38;5;241m==\u001b[39m \u001b[38;5;124m'\u001b[39m\u001b[38;5;124m__main__\u001b[39m\u001b[38;5;124m'\u001b[39m:\n\u001b[1;32m----> 4\u001b[0m     group_size \u001b[38;5;241m=\u001b[39m \u001b[38;5;28mint\u001b[39m(\u001b[38;5;28minput\u001b[39m())\n\u001b[0;32m      5\u001b[0m     room_numbers \u001b[38;5;241m=\u001b[39m \u001b[38;5;28mlist\u001b[39m(\u001b[38;5;28mmap\u001b[39m(\u001b[38;5;28mint\u001b[39m, \u001b[38;5;28minput\u001b[39m()\u001b[38;5;241m.\u001b[39msplit()))\n\u001b[0;32m      7\u001b[0m     number_of_groups \u001b[38;5;241m=\u001b[39m (\u001b[38;5;28mlen\u001b[39m(room_numbers) \u001b[38;5;241m-\u001b[39m \u001b[38;5;241m1\u001b[39m) \u001b[38;5;241m/\u001b[39m group_size\n",
      "\u001b[1;31mValueError\u001b[0m: invalid literal for int() with base 10: 'sad'"
     ]
    }
   ],
   "source": [
    "# Enter your code here. Read input from STDIN. Print output to STDOUT\n",
    "\n",
    "if __name__ == '__main__':\n",
    "    group_size = int(input())\n",
    "    room_numbers = list(map(int, input().split()))\n",
    "    \n",
    "    number_of_groups = (len(room_numbers) - 1) / group_size\n",
    "    \n",
    "    counts = {}\n",
    "    \n",
    "    for room_number in room_numbers:\n",
    "        try:\n",
    "            counts[room_number] += 1\n",
    "        except KeyError:\n",
    "            counts[room_number] = 1\n",
    "            \n",
    "    captain = list(filter(lambda elem: elem[1] == 1, counts.items()))\n",
    "    \n",
    "    print(captain[0][0])"
   ]
  },
  {
   "cell_type": "markdown",
   "id": "a4670b9c",
   "metadata": {},
   "source": [
    "# 35 py-check-strict-superset\n",
    "https://www.hackerrank.com/challenges/py-check-strict-superset/problem"
   ]
  },
  {
   "cell_type": "code",
   "execution_count": null,
   "id": "88362ea2",
   "metadata": {},
   "outputs": [],
   "source": [
    "# Enter your code here. Read input from STDIN. Print output to STDOUT\n",
    "if __name__ == '__main__':\n",
    "    a = set(map(int, input().split()))\n",
    "    n = int(input())\n",
    "    \n",
    "    result = True\n",
    "    for _ in range(n):\n",
    "        other_set = set(map(int, input().split()))\n",
    "        is_strict_superset = a.issuperset(other_set) and len(a.difference(other_set)) > 0\n",
    "        result = result and is_strict_superset\n",
    "        \n",
    "    print(result)"
   ]
  },
  {
   "cell_type": "markdown",
   "id": "11478cfd",
   "metadata": {},
   "source": [
    "# 36 py-check-subset\n",
    "https://www.hackerrank.com/challenges/py-check-subset/problem"
   ]
  },
  {
   "cell_type": "code",
   "execution_count": null,
   "id": "eb15c3ec",
   "metadata": {},
   "outputs": [],
   "source": [
    "# Enter your code here. Read input from STDIN. Print output to STDOUT\n",
    "\n",
    "if __name__ == '__main__':\n",
    "    n_test_cases = int(input())\n",
    "    \n",
    "    for _ in range(n_test_cases):\n",
    "        n_elements_a = int(input())\n",
    "        a = set(map(int, input().split()))\n",
    "        n_elements_b = int(input())\n",
    "        b = set(map(int, input().split()))\n",
    "        \n",
    "        print(a.issubset(b))"
   ]
  },
  {
   "cell_type": "markdown",
   "id": "67054a4c",
   "metadata": {},
   "source": [
    "# 37 py-set-difference-operation\n",
    " https://www.hackerrank.com/challenges/py-set-difference-operation"
   ]
  },
  {
   "cell_type": "code",
   "execution_count": null,
   "id": "5665e781",
   "metadata": {},
   "outputs": [],
   "source": [
    "# Enter your code here. Read input from STDIN. Print output to STDOUT\n",
    "\n",
    "if __name__ == '__main__':\n",
    "    n_english = int(input())\n",
    "    roll_english = set(map(int, input().split()))\n",
    "    \n",
    "    n_french = int(input())\n",
    "    roll_french = set(map(int, input().split()))\n",
    "    \n",
    "    print(len(roll_english.difference(roll_french)))"
   ]
  },
  {
   "cell_type": "markdown",
   "id": "1081bbca",
   "metadata": {},
   "source": [
    "# 38 py-set-intersection-operation\n",
    "https://www.hackerrank.com/challenges/py-set-intersection-operation/problem"
   ]
  },
  {
   "cell_type": "code",
   "execution_count": null,
   "id": "b0fc3ac3",
   "metadata": {},
   "outputs": [],
   "source": [
    "# Enter your code here. Read input from STDIN. Print output to STDOUT\n",
    "\n",
    "if __name__ == '__main__':\n",
    "    n_english = int(input())\n",
    "    roll_english = set(map(int, input().split()))\n",
    "    \n",
    "    n_french = int(input())\n",
    "    roll_french = set(map(int, input().split()))\n",
    "    \n",
    "    print(len(roll_english.intersection(roll_french)))"
   ]
  },
  {
   "cell_type": "markdown",
   "id": "d4c25426",
   "metadata": {},
   "source": [
    "# 39 py-introduction-to-sets\n",
    "https://www.hackerrank.com/challenges/py-introduction-to-sets/problem"
   ]
  },
  {
   "cell_type": "code",
   "execution_count": null,
   "id": "a42ea2f1",
   "metadata": {},
   "outputs": [],
   "source": [
    "def average(array):\n",
    "    # your code goes here\n",
    "    array = set(array)\n",
    "    return sum(array) / len(array)\n",
    "\n",
    "if __name__ == '__main__':\n",
    "    n = int(input())\n",
    "    arr = list(map(int, input().split()))\n",
    "    result = average(arr)\n",
    "    print(result)\n"
   ]
  },
  {
   "cell_type": "markdown",
   "id": "8933f42d",
   "metadata": {},
   "source": [
    "# 40 py-set-mutations\n",
    "https://www.hackerrank.com/challenges/py-set-mutations/problem"
   ]
  },
  {
   "cell_type": "code",
   "execution_count": null,
   "id": "1b1f1fd6",
   "metadata": {},
   "outputs": [],
   "source": [
    "# Enter your code here. Read input from STDIN. Print output to STDOUT\n",
    "\n",
    "if __name__ == '__main__':\n",
    "    n_elements_a = int(input())\n",
    "    a = set(map(int, input().split()))\n",
    "    \n",
    "    n_other_sets = int(input())\n",
    "    \n",
    "    operations = {a.update.__name__: a.update, a.intersection_update.__name__: a.intersection_update, a.difference_update.__name__: a.difference_update, a.symmetric_difference_update.__name__: a.symmetric_difference_update}\n",
    "    \n",
    "    for _ in range(n_other_sets):\n",
    "        op_name, set_length = input().split()\n",
    "        other_set = set(map(int, input().split()))\n",
    "        \n",
    "        operations[op_name](other_set)    \n",
    "        \n",
    "    print(sum(a))"
   ]
  },
  {
   "cell_type": "markdown",
   "id": "ab3b6bfd",
   "metadata": {},
   "source": [
    "# 41 no-idea\n",
    "https://www.hackerrank.com/challenges/no-idea/problem"
   ]
  },
  {
   "cell_type": "code",
   "execution_count": null,
   "id": "5ad41eec",
   "metadata": {},
   "outputs": [],
   "source": [
    "# Enter your code here. Read input from STDIN. Print output to STDOUT\n",
    "\n",
    "if __name__ == '__main__':\n",
    "    n, m = list(map(int, input().split()))\n",
    "    arr = list(map(int, input().split()))\n",
    "    a = set(map(int, input().split()))\n",
    "    b = set(map(int, input().split()))\n",
    "    \n",
    "    happiness = 0\n",
    "    \n",
    "    seen = set()\n",
    "    for i in arr:\n",
    "        if i in a:\n",
    "            happiness += 1\n",
    "        elif i in b:\n",
    "            happiness -= 1\n",
    "    print(happiness)\n"
   ]
  },
  {
   "cell_type": "markdown",
   "id": "c44c3758",
   "metadata": {},
   "source": [
    "# 42 set-discard-remove-pop\n",
    "https://www.hackerrank.com/challenges/py-set-discard-remove-pop/problem"
   ]
  },
  {
   "cell_type": "code",
   "execution_count": null,
   "id": "406910c8",
   "metadata": {},
   "outputs": [],
   "source": [
    "# Enter your code here. Read input from STDIN. Print output to STDOUT\n",
    "if __name__ == '__main__':\n",
    "    n_elements_s = int(input())\n",
    "    \n",
    "    s = set(map(int, input().split()))\n",
    "    \n",
    "    n_commands = int(input())\n",
    "    \n",
    "    for _ in range(n_commands):\n",
    "        command_input = input().split()\n",
    "        command = command_input[0]\n",
    "        if command == 'pop':\n",
    "            try:\n",
    "                s.pop()\n",
    "            except KeyError:\n",
    "                continue\n",
    "        elif command == 'remove':\n",
    "            try:\n",
    "                s.remove(int(command_input[1]))\n",
    "            except KeyError:\n",
    "                continue\n",
    "        elif command == 'discard':\n",
    "            s.discard(int(command_input[1]))\n",
    "\n",
    "    print(sum(s))\n",
    "ifference(arr2).union(arr2.difference(arr1))):\n",
    "        print(n)"
   ]
  },
  {
   "cell_type": "markdown",
   "id": "35c369dc",
   "metadata": {},
   "source": [
    "# 43 symmetric-difference\n",
    "https://www.hackerrank.com/challenges/symmetric-difference/problem"
   ]
  },
  {
   "cell_type": "code",
   "execution_count": 2,
   "id": "ab4fa50e",
   "metadata": {},
   "outputs": [
    {
     "name": "stdout",
     "output_type": "stream",
     "text": [
      "a\n"
     ]
    },
    {
     "ename": "ValueError",
     "evalue": "invalid literal for int() with base 10: 'a'",
     "output_type": "error",
     "traceback": [
      "\u001b[1;31m---------------------------------------------------------------------------\u001b[0m",
      "\u001b[1;31mValueError\u001b[0m                                Traceback (most recent call last)",
      "Cell \u001b[1;32mIn [2], line 4\u001b[0m\n\u001b[0;32m      1\u001b[0m \u001b[38;5;66;03m# Enter your code here. Read input from STDIN. Print output to STDOUT\u001b[39;00m\n\u001b[0;32m      3\u001b[0m \u001b[38;5;28;01mif\u001b[39;00m \u001b[38;5;18m__name__\u001b[39m \u001b[38;5;241m==\u001b[39m \u001b[38;5;124m'\u001b[39m\u001b[38;5;124m__main__\u001b[39m\u001b[38;5;124m'\u001b[39m:\n\u001b[1;32m----> 4\u001b[0m     n1 \u001b[38;5;241m=\u001b[39m \u001b[38;5;28mint\u001b[39m(\u001b[38;5;28minput\u001b[39m())\n\u001b[0;32m      5\u001b[0m     arr1 \u001b[38;5;241m=\u001b[39m \u001b[38;5;28mset\u001b[39m(\u001b[38;5;28mmap\u001b[39m(\u001b[38;5;28mint\u001b[39m, \u001b[38;5;28minput\u001b[39m()\u001b[38;5;241m.\u001b[39msplit()))\n\u001b[0;32m      7\u001b[0m     n2 \u001b[38;5;241m=\u001b[39m \u001b[38;5;28mint\u001b[39m(\u001b[38;5;28minput\u001b[39m())\n",
      "\u001b[1;31mValueError\u001b[0m: invalid literal for int() with base 10: 'a'"
     ]
    }
   ],
   "source": [
    "# Enter your code here. Read input from STDIN. Print output to STDOUT\n",
    "\n",
    "if __name__ == '__main__':\n",
    "    n1 = int(input())\n",
    "    arr1 = set(map(int, input().split()))\n",
    "    \n",
    "    n2 = int(input())\n",
    "    arr2 = set(map(int, input().split()))\n",
    "    \n",
    "    for n in sorted(arr1.difference(arr2).union(arr2.difference(arr1))):\n",
    "        print(n)"
   ]
  },
  {
   "cell_type": "markdown",
   "id": "97b14ce1",
   "metadata": {},
   "source": [
    "# 44 py-set-union\n",
    "https://www.hackerrank.com/challenges/py-set-union/problem"
   ]
  },
  {
   "cell_type": "code",
   "execution_count": null,
   "id": "b0af4a63",
   "metadata": {},
   "outputs": [],
   "source": [
    "# Enter your code here. Read input from STDIN. Print output to STDOUT\n",
    "\n",
    "if __name__ == '__main__':\n",
    "    n_english = int(input())\n",
    "    roll_english = set(map(int, input().split()))\n",
    "    \n",
    "    n_french = int(input())\n",
    "    roll_french = set(map(int, input().split()))\n",
    "    \n",
    "    print(len(roll_english.union(roll_french)))"
   ]
  },
  {
   "cell_type": "markdown",
   "id": "3e9dc064",
   "metadata": {},
   "source": [
    "# 45 calendar-module\n",
    "https://www.hackerrank.com/challenges/calendar-module/problem"
   ]
  },
  {
   "cell_type": "code",
   "execution_count": null,
   "id": "02eafe35",
   "metadata": {},
   "outputs": [],
   "source": [
    "# Enter your code here. Read input from STDIN. Print output to STDOUT\n",
    "import calendar\n",
    "\n",
    "if __name__ == '__main__':\n",
    "    month, day, year = list(map(int, input().split()))\n",
    "    \n",
    "    print(calendar.day_name[calendar.weekday(year, month, day)].upper())\n"
   ]
  },
  {
   "cell_type": "markdown",
   "id": "8e3c8774",
   "metadata": {},
   "source": [
    "# 46 python-time-delta\n",
    "https://www.hackerrank.com/challenges/python-time-delta/problem"
   ]
  },
  {
   "cell_type": "code",
   "execution_count": null,
   "id": "41d06239",
   "metadata": {},
   "outputs": [],
   "source": [
    "#!/bin/python3\n",
    "\n",
    "import math\n",
    "import os\n",
    "import random\n",
    "import re\n",
    "import sys\n",
    "from datetime import datetime\n",
    "\n",
    "# Complete the time_delta function below.\n",
    "def time_delta(t1, t2):\n",
    "    t1 = datetime.strptime(t1, '%a %d %b %Y %H:%M:%S %z')\n",
    "    t2 = datetime.strptime(t2, '%a %d %b %Y %H:%M:%S %z')\n",
    "\n",
    "    diff = t1 - t2\n",
    "    \n",
    "    return str(abs(int(diff.total_seconds())))\n",
    "\n",
    "    \n",
    "if __name__ == '__main__':\n",
    "    fptr = open(os.environ['OUTPUT_PATH'], 'w')\n",
    "\n",
    "    t = int(input())\n",
    "\n",
    "    for t_itr in range(t):\n",
    "        t1 = input()\n",
    "\n",
    "        t2 = input()\n",
    "\n",
    "        delta = time_delta(t1, t2)\n",
    "\n",
    "        fptr.write(delta + '\\n')\n",
    "\n",
    "    fptr.close()"
   ]
  },
  {
   "cell_type": "markdown",
   "id": "4613733b",
   "metadata": {},
   "source": [
    "# 47 exceptions\n",
    "https://www.hackerrank.com/challenges/exceptions/problem"
   ]
  },
  {
   "cell_type": "code",
   "execution_count": null,
   "id": "7657e73d",
   "metadata": {},
   "outputs": [],
   "source": [
    "# Enter your code here. Read input from STDIN. Print output to STDOUT\n",
    "if __name__ == '__main__':\n",
    "    n_test_cases = int(input())\n",
    "    \n",
    "    for _ in range(n_test_cases):\n",
    "        a, b = input().split()\n",
    "        \n",
    "        try:\n",
    "            print(int(a) // int(b))\n",
    "        except (ZeroDivisionError, ValueError) as e:\n",
    "            print(\"Error Code:\", e)"
   ]
  },
  {
   "cell_type": "markdown",
   "id": "473da404",
   "metadata": {},
   "source": [
    "# 48 zipped\n",
    "https://www.hackerrank.com/challenges/zipped/problem"
   ]
  },
  {
   "cell_type": "code",
   "execution_count": null,
   "id": "cac7fb07",
   "metadata": {},
   "outputs": [],
   "source": [
    "# Enter your code here. Read input from STDIN. Print output to STDOUT\n",
    "if __name__ == '__main__':\n",
    "    n_students, n_subjects = tuple(map(int, input().split()))\n",
    "    \n",
    "    all_grades = []\n",
    "    for _ in range(n_subjects):\n",
    "        all_grades.append(list(map(float, input().split())))\n",
    "      \n",
    "    for student_grades in zip(*all_grades):\n",
    "        print(round(sum(student_grades) / n_subjects, 1))      "
   ]
  },
  {
   "cell_type": "markdown",
   "id": "404142e2",
   "metadata": {},
   "source": [
    "# 49 python-sort-sort\n",
    "https://www.hackerrank.com/challenges/python-sort-sort/problem"
   ]
  },
  {
   "cell_type": "code",
   "execution_count": null,
   "id": "7363460a",
   "metadata": {},
   "outputs": [],
   "source": [
    "#!/bin/python3\n",
    "\n",
    "import math\n",
    "import os\n",
    "import random\n",
    "import re\n",
    "import sys\n",
    "\n",
    "if __name__ == '__main__':\n",
    "    first_multiple_input = input().rstrip().split()\n",
    "\n",
    "    n = int(first_multiple_input[0])\n",
    "\n",
    "    m = int(first_multiple_input[1])\n",
    "\n",
    "    arr = []\n",
    "\n",
    "    for _ in range(n):\n",
    "        arr.append(list(map(int, input().rstrip().split())))\n",
    "\n",
    "    k = int(input().strip())\n",
    "    \n",
    "    \n",
    "    athletes = sorted(arr, key=lambda athlete : athlete[k])\n",
    "    for athlete in athletes:\n",
    "        print(*athlete)"
   ]
  },
  {
   "cell_type": "markdown",
   "id": "e54586d4",
   "metadata": {},
   "source": [
    "# 50 ginorts\n",
    "https://www.hackerrank.com/challenges/ginorts/problem"
   ]
  },
  {
   "cell_type": "code",
   "execution_count": null,
   "id": "61f28d95",
   "metadata": {},
   "outputs": [],
   "source": [
    "# Enter your code here. Read input from STDIN. Print output to STDOUT\n",
    "def is_even(number):\n",
    "    return number % 2 == 0\n",
    "\n",
    "if __name__ == '__main__':\n",
    "    s = input()\n",
    "  \n",
    "    lower_case = sorted(list(filter(lambda char : char.islower(), s)))\n",
    "    upper_case = sorted(list(filter(lambda char : char.isupper(), s)))\n",
    "    digits = sorted(filter(lambda char : char.isdigit(), s))\n",
    "    digits = sorted(digits, key=lambda digit : is_even(int(digit)))\n",
    "    \n",
    "    print(''.join(lower_case + upper_case + digits))\n"
   ]
  },
  {
   "cell_type": "markdown",
   "id": "bc23a2bc",
   "metadata": {},
   "source": [
    "# 51 map-and-lambda-expression\n",
    "https://www.hackerrank.com/challenges/map-and-lambda-expression/problem"
   ]
  },
  {
   "cell_type": "code",
   "execution_count": null,
   "id": "d54e66c1",
   "metadata": {},
   "outputs": [],
   "source": [
    "cube = lambda x: x**3\n",
    "\n",
    "def fibonacci(n):\n",
    "    # return a list of fibonacci numbers\n",
    "    \n",
    "    def fib(x):\n",
    "        first, second = 0, 1\n",
    "        for _ in range(x):\n",
    "            first, second = second, first + second\n",
    "        return first\n",
    "    \n",
    "    return [fib(i) for i in range(n)]\n",
    "\n"
   ]
  },
  {
   "cell_type": "markdown",
   "id": "31d8745a",
   "metadata": {},
   "source": [
    "# 52 standardize-mobile-number-using-decorators\n",
    "https://www.hackerrank.com/challenges/standardize-mobile-number-using-decorators/problem"
   ]
  },
  {
   "cell_type": "code",
   "execution_count": null,
   "id": "960fa785",
   "metadata": {},
   "outputs": [],
   "source": [
    "def is_10_digit_number(number):\n",
    "    return len(number) == 10\n",
    "\n",
    "def wrapper(f):\n",
    "    def fun(l):\n",
    "  \n",
    "        no_prefix = list(filter(is_10_digit_number, l))\n",
    "        with_91 = list(filter(lambda number : number.startswith('91') and number not in no_prefix, l))\n",
    "        with_0 = list(filter(lambda number : number.startswith('0') and number not in no_prefix, l))\n",
    "\n",
    "        plus_91_numbers = list(filter(lambda number : number.startswith('+91'), l))\n",
    "        \n",
    "        no_prefix = list(map(lambda number : '+91' + number, no_prefix))\n",
    "        with_91 = list(map(lambda number : '+' + number, with_91))\n",
    "        with_0 = list(map(lambda number : '+91' + number[1:], with_0))\n",
    "\n",
    "        plus_91_numbers += no_prefix + with_91 + with_0\n",
    "\n",
    "        all_numbers = list(map(lambda number : number[:3] + ' ' + number[3:8] + ' ' + number[8:], plus_91_numbers))\n",
    "        for number in sorted(all_numbers):\n",
    "            print(number)\n",
    "        \n",
    "    return fun"
   ]
  },
  {
   "cell_type": "markdown",
   "id": "fc69813d",
   "metadata": {},
   "source": [
    "# 53 decorators-2-name-directory\n",
    "https://www.hackerrank.com/challenges/decorators-2-name-directory/problem"
   ]
  },
  {
   "cell_type": "code",
   "execution_count": null,
   "id": "6c0f33f5",
   "metadata": {},
   "outputs": [],
   "source": [
    "def get_title(person):\n",
    "    if person.sex == 'M':\n",
    "        return 'Mr.'\n",
    "    return 'Ms.'\n",
    "\n",
    "class Person:\n",
    "    name: str\n",
    "    age: int\n",
    "    sex: str\n",
    "    \n",
    "    def __init__(self, name, age, sex):\n",
    "        self.name = name\n",
    "        self.age = int(age)\n",
    "        self.sex = sex\n",
    "    \n",
    "    def __str__(self):\n",
    "        return get_title(self) + ' ' + self.name\n",
    "    \n",
    "def person_lister(f):\n",
    "    def inner(people):\n",
    "        # complete the function\n",
    "        people = [Person(' '.join(person_details[:-2]), person_details[-2], person_details[-1]) for person_details in people]\n",
    "        return sorted(people, key=lambda person : person.age)\n",
    "    return inner\n"
   ]
  },
  {
   "cell_type": "markdown",
   "id": "ff5d7501",
   "metadata": {},
   "source": [
    "# 54 xml-1-find-the-score\n",
    "https://www.hackerrank.com/challenges/xml-1-find-the-score/problem"
   ]
  },
  {
   "cell_type": "code",
   "execution_count": null,
   "id": "df31a34d",
   "metadata": {},
   "outputs": [],
   "source": [
    "from functools import reduce\n",
    "\n",
    "def get_attr_number(node):\n",
    "    # your code goes here\n",
    "    tree = etree.ElementTree(etree.fromstring(xml))\n",
    "   \n",
    "    return reduce(lambda x,y : x+y, map(lambda node: len(node.attrib), tree.iter()))"
   ]
  },
  {
   "cell_type": "markdown",
   "id": "226bf6b8",
   "metadata": {},
   "source": [
    "# 55 xml2-find-the-maximum-depth\n",
    "https://www.hackerrank.com/challenges/xml2-find-the-maximum-depth/problem"
   ]
  },
  {
   "cell_type": "code",
   "execution_count": null,
   "id": "7bac2881",
   "metadata": {},
   "outputs": [],
   "source": [
    "maxdepth = 0\n",
    "def depth(elem, level):\n",
    "    global maxdepth\n",
    "    # your code goes here\n",
    "    # taken from https://www.chase2learn.com/xml-2-find-the-maximum-depth-in-python-hackerrank-solution/\n",
    "    # if the current level is the same as the max depth, increase the max depth to keep going down the tree\n",
    "    if maxdepth == level:\n",
    "        maxdepth += 1\n",
    "    # go down all of the children of a node, method will return when there are no children\n",
    "    for child_elem in elem:\n",
    "        depth(child_elem, level + 1)"
   ]
  },
  {
   "cell_type": "markdown",
   "id": "f2d37fe1",
   "metadata": {},
   "source": [
    "# 56 np-array\n",
    "https://www.hackerrank.com/challenges/np-arrays/problem"
   ]
  },
  {
   "cell_type": "code",
   "execution_count": null,
   "id": "db17d1ce",
   "metadata": {},
   "outputs": [],
   "source": [
    "def arrays(arr):\n",
    "    # complete this function\n",
    "    # use numpy.array\n",
    "    reverse = list(map(float, arr))[::-1]\n",
    "    return numpy.array(reverse, dtype=float)"
   ]
  },
  {
   "cell_type": "markdown",
   "id": "9d15d06c",
   "metadata": {},
   "source": [
    "# 57 np-shape-reshape\n",
    "https://www.hackerrank.com/challenges/np-shape-reshape/problem"
   ]
  },
  {
   "cell_type": "code",
   "execution_count": null,
   "id": "9008fe2b",
   "metadata": {},
   "outputs": [],
   "source": [
    "# Enter your code here. Read input from STDIN. Print output to STDOUT\n",
    "import numpy as np\n",
    "\n",
    "if __name__ == '__main__':\n",
    "    array_flat = list(map(int, input().split()))\n",
    "    print(np.reshape(np.array(array_flat), (3, 3)))"
   ]
  },
  {
   "cell_type": "markdown",
   "id": "bf46098c",
   "metadata": {},
   "source": [
    "# 58 np-transpose-and-flatten\n",
    "https://www.hackerrank.com/challenges/np-transpose-and-flatten/problem"
   ]
  },
  {
   "cell_type": "code",
   "execution_count": null,
   "id": "a96d32de",
   "metadata": {},
   "outputs": [],
   "source": [
    "# Enter your code here. Read input from STDIN. Print output to STDOUT\n",
    "import numpy as np\n",
    "\n",
    "if __name__ == '__main__':\n",
    "    n, m = tuple(map(int, input().split()))\n",
    "    \n",
    "    arr = np.array([list(map(int, input().split())) for _ in range(n)])\n",
    "    \n",
    "    print(np.transpose(arr))\n",
    "    print(arr.flatten())"
   ]
  },
  {
   "cell_type": "markdown",
   "id": "203118b8",
   "metadata": {},
   "source": [
    "# 59 np-concatenate\n",
    "https://www.hackerrank.com/challenges/np-concatenate/problem"
   ]
  },
  {
   "cell_type": "code",
   "execution_count": null,
   "id": "2a3fd123",
   "metadata": {},
   "outputs": [],
   "source": [
    "# Enter your code here. Read input from STDIN. Print output to STDOUT\n",
    "import numpy as np\n",
    "\n",
    "if __name__ == '__main__':\n",
    "    n, m, p = list(map(int, input().split()))\n",
    "    \n",
    "    n_arr = [list(map(int, input().split())) for _ in range(n)]\n",
    "    m_arr = [list(map(int, input().split())) for _ in range(m)]\n",
    "    \n",
    "    print(np.concatenate((n_arr, m_arr), axis=0))"
   ]
  },
  {
   "cell_type": "markdown",
   "id": "64d3e709",
   "metadata": {},
   "source": [
    "# 60 np-zeros-and-ones\n",
    "https://www.hackerrank.com/challenges/np-zeros-and-ones/problem"
   ]
  },
  {
   "cell_type": "code",
   "execution_count": null,
   "id": "913fe19b",
   "metadata": {},
   "outputs": [],
   "source": [
    "# Enter your code here. Read input from STDIN. Print output to STDOUT\n",
    "import numpy as np\n",
    "\n",
    "if __name__ == '__main__':\n",
    "    dimensions = list(map(int, input().split()))\n",
    "    \n",
    "    print(np.zeros(dimensions, dtype=np.int))\n",
    "    print(np.ones(dimensions, dtype=np.int))"
   ]
  },
  {
   "cell_type": "markdown",
   "id": "207f5664",
   "metadata": {},
   "source": [
    "# 61 np-eye-and-identity\n",
    "https://www.hackerrank.com/challenges/np-eye-and-identity/problem"
   ]
  },
  {
   "cell_type": "code",
   "execution_count": null,
   "id": "a1e7ca75",
   "metadata": {},
   "outputs": [],
   "source": [
    "# Enter your code here. Read input from STDIN. Print output to STDOUT\n",
    "import numpy as np\n",
    "np.set_printoptions(legacy='1.13')\n",
    "\n",
    "if __name__ == '__main__':\n",
    "    n_rows, n_cols = tuple(map(int, input().split()))\n",
    "    \n",
    "    if n_rows == n_cols:\n",
    "        print(np.identity(n_rows))\n",
    "    else:\n",
    "        print(np.eye(n_rows, n_cols))"
   ]
  },
  {
   "cell_type": "markdown",
   "id": "ce3bd1c9",
   "metadata": {},
   "source": [
    "# 62 np-array-mathematics\n",
    "https://www.hackerrank.com/challenges/np-array-mathematics/problem"
   ]
  },
  {
   "cell_type": "code",
   "execution_count": null,
   "id": "b9e06959",
   "metadata": {},
   "outputs": [],
   "source": [
    "# Enter your code here. Read input from STDIN. Print output to STDOUT\n",
    "import numpy as np\n",
    "\n",
    "if __name__ == '__main__':\n",
    "    n, m = tuple(map(int, input().split()))\n",
    "    \n",
    "    a = np.array([list(map(int, input().split())) for _ in range(n)])\n",
    "    b = np.array([list(map(int, input().split())) for _ in range(n)])\n",
    "    \n",
    "    print(a + b)\n",
    "    print(a - b)\n",
    "    print(a * b)\n",
    "    print(a // b)\n",
    "    print(a % b)\n",
    "    print(a ** b)"
   ]
  },
  {
   "cell_type": "markdown",
   "id": "70caa935",
   "metadata": {},
   "source": [
    "# 63 floor-ceil-and-rint\n",
    "https://www.hackerrank.com/challenges/floor-ceil-and-rint/problem"
   ]
  },
  {
   "cell_type": "code",
   "execution_count": null,
   "id": "18b1ee3a",
   "metadata": {},
   "outputs": [],
   "source": [
    "# Enter your code here. Read input from STDIN. Print output to STDOUT\n",
    "import numpy as np\n",
    "np.set_printoptions(legacy='1.13')\n",
    "\n",
    "if __name__ == '__main__':\n",
    "    a = np.array(list(map(float, input().split())), dtype=float)\n",
    "    \n",
    "    print(np.floor(a))\n",
    "    print(np.ceil(a))\n",
    "    print(np.rint(a))"
   ]
  },
  {
   "cell_type": "markdown",
   "id": "3cb4b8bc",
   "metadata": {},
   "source": [
    "# 64 np-sum-and-prod\n",
    "https://www.hackerrank.com/challenges/np-sum-and-prod/problem"
   ]
  },
  {
   "cell_type": "code",
   "execution_count": null,
   "id": "e9e48e22",
   "metadata": {},
   "outputs": [],
   "source": [
    "# Enter your code here. Read input from STDIN. Print output to STDOUT\n",
    "import numpy as np\n",
    "\n",
    "if __name__ == '__main__':\n",
    "    n, m = tuple(map(int, input().split()))\n",
    "    \n",
    "    arr = np.array([list(map(int, input().split())) for _ in range(n)])\n",
    "    \n",
    "    print(np.prod(np.sum(arr, axis=0)))"
   ]
  },
  {
   "cell_type": "markdown",
   "id": "ee95ea80",
   "metadata": {},
   "source": [
    "# 65 np-min-and-max\n",
    "https://www.hackerrank.com/challenges/np-min-and-max/"
   ]
  },
  {
   "cell_type": "code",
   "execution_count": null,
   "id": "2eed4574",
   "metadata": {},
   "outputs": [],
   "source": [
    "# Enter your code here. Read input from STDIN. Print output to STDOUT\n",
    "import numpy as np\n",
    "\n",
    "if __name__ == '__main__':\n",
    "    n, m = tuple(map(int, input().split()))\n",
    "    \n",
    "    arr = np.array([list(map(int, input().split())) for _ in range(n)])\n",
    "    \n",
    "    print(np.max(np.min(arr, axis=1)))"
   ]
  },
  {
   "cell_type": "markdown",
   "id": "93b6082e",
   "metadata": {},
   "source": [
    "# 66 np-mean-var-and-std\n",
    "https://www.hackerrank.com/challenges/np-mean-var-and-std/"
   ]
  },
  {
   "cell_type": "code",
   "execution_count": null,
   "id": "4b3d83f7",
   "metadata": {},
   "outputs": [],
   "source": [
    "# Enter your code here. Read input from STDIN. Print output to STDOUT\n",
    "import numpy as np\n",
    "\n",
    "if __name__ == '__main__':\n",
    "    n, m = tuple(map(int, input().split()))\n",
    "    \n",
    "    arr = np.array([list(map(int, input().split())) for _ in range(n)], dtype=int)\n",
    "    \n",
    "    print(np.mean(arr, axis=1))\n",
    "    print(np.var(arr, axis=0))\n",
    "    print(np.round(np.std(arr), 11))"
   ]
  },
  {
   "cell_type": "markdown",
   "id": "32599a5c",
   "metadata": {},
   "source": [
    "# 67 np-dot-and-cross\n",
    "https://www.hackerrank.com/challenges/np-dot-and-cross/"
   ]
  },
  {
   "cell_type": "code",
   "execution_count": null,
   "id": "b500f805",
   "metadata": {},
   "outputs": [],
   "source": [
    "# Enter your code here. Read input from STDIN. Print output to STDOUT\n",
    "import numpy as np\n",
    "\n",
    "if __name__ == '__main__':\n",
    "    n = int(input())\n",
    "    \n",
    "    arr_a = np.array([list(map(int, input().split())) for _ in range(n)])\n",
    "    arr_b = np.array([list(map(int, input().split())) for _ in range(n)])\n",
    "    \n",
    "    print(np.dot(arr_a, arr_b))"
   ]
  },
  {
   "cell_type": "markdown",
   "id": "3383a8a4",
   "metadata": {},
   "source": [
    "# 68 np-inner-and-outer\n",
    "https://www.hackerrank.com/challenges/np-inner-and-outer/"
   ]
  },
  {
   "cell_type": "code",
   "execution_count": null,
   "id": "78ea72a6",
   "metadata": {},
   "outputs": [],
   "source": [
    "# Enter your code here. Read input from STDIN. Print output to STDOUT\n",
    "import numpy as np\n",
    "\n",
    "if __name__ == '__main__':\n",
    "    arr_a = np.array(list(map(int, input().split())))\n",
    "    arr_b = np.array(list(map(int, input().split())))\n",
    "    \n",
    "    print(np.inner(arr_a, arr_b))\n",
    "    print(np.outer(arr_a, arr_b))"
   ]
  },
  {
   "cell_type": "markdown",
   "id": "07f3331a",
   "metadata": {},
   "source": [
    "# 69 np-linear-algebra\n",
    "https://www.hackerrank.com/challenges/np-linear-algebra/"
   ]
  },
  {
   "cell_type": "code",
   "execution_count": null,
   "id": "e23f3241",
   "metadata": {},
   "outputs": [],
   "source": [
    "# Enter your code here. Read input from STDIN. Print output to STDOUT\n",
    "import numpy as np\n",
    "\n",
    "if __name__ == '__main__':\n",
    "    n = int(input())\n",
    "    arr = np.array([list(map(float, input().split())) for _ in range(n)])\n",
    "    \n",
    "    print(round(np.linalg.det(arr), 2))"
   ]
  },
  {
   "cell_type": "markdown",
   "id": "354ed69a",
   "metadata": {},
   "source": [
    "# 70 strange-advertising\n",
    "https://www.hackerrank.com/challenges/strange-advertising/"
   ]
  },
  {
   "cell_type": "code",
   "execution_count": null,
   "id": "33d6124a",
   "metadata": {},
   "outputs": [],
   "source": [
    "#!/bin/python3\n",
    "\n",
    "import math\n",
    "import os\n",
    "import random\n",
    "import re\n",
    "import sys\n",
    "\n",
    "#\n",
    "# Complete the 'viralAdvertising' function below.\n",
    "#\n",
    "# The function is expected to return an INTEGER.\n",
    "# The function accepts INTEGER n as parameter.\n",
    "#\n",
    "\n",
    "def viralAdvertising(n):\n",
    "    # Write your code here\n",
    "  \n",
    "    # the number of people that like it everyday can be computed recursively\n",
    "    def liked(day):\n",
    "        if day == 1:\n",
    "            return math.floor(5/2)\n",
    "        return math.floor((liked(day - 1) * 3) / 2)\n",
    "   \n",
    "    # having the people that liked it per day, you just need to sum\n",
    "    cumulative_liked = 0\n",
    "    for i in range(1, n + 1):\n",
    "        cumulative_liked += liked(i)\n",
    "        \n",
    "    return cumulative_liked\n",
    "        \n",
    "        \n",
    "if __name__ == '__main__':\n",
    "    fptr = open(os.environ['OUTPUT_PATH'], 'w')\n",
    "\n",
    "    n = int(input().strip())\n",
    "\n",
    "    result = viralAdvertising(n)\n",
    "\n",
    "    fptr.write(str(result) + '\\n')\n",
    "\n",
    "    fptr.close()"
   ]
  },
  {
   "cell_type": "markdown",
   "id": "3df1b641",
   "metadata": {},
   "source": [
    "# 71 recursive-digit-sum\n",
    "https://www.hackerrank.com/challenges/recursive-digit-sum/"
   ]
  },
  {
   "cell_type": "code",
   "execution_count": null,
   "id": "d46e60da",
   "metadata": {},
   "outputs": [],
   "source": [
    "#!/bin/python3\n",
    "\n",
    "import math\n",
    "import os\n",
    "import random\n",
    "import re\n",
    "import sys\n",
    "\n",
    "#\n",
    "# Complete the 'superDigit' function below.\n",
    "#\n",
    "# The function is expected to return an INTEGER.\n",
    "# The function accepts following parameters:\n",
    "#  1. STRING n\n",
    "#  2. INTEGER k\n",
    "#\n",
    "# from \n",
    "\n",
    "def superDigit(n, k):\n",
    "    # Use super digit formula from https://en.wikipedia.org/wiki/Digital_root#Congruence_formula\n",
    "    super_digit_sum = sum(int(digit) for digit in n)\n",
    "    return (k * super_digit_sum - 1) % 9 + 1\n",
    "    \n",
    "        \n",
    "\n",
    "if __name__ == '__main__':\n",
    "    fptr = open(os.environ['OUTPUT_PATH'], 'w')\n",
    "\n",
    "    first_multiple_input = input().rstrip().split()\n",
    "\n",
    "    n = first_multiple_input[0]\n",
    "\n",
    "    k = int(first_multiple_input[1])\n",
    "\n",
    "    result = superDigit(n, k)\n",
    "\n",
    "    fptr.write(str(result) + '\\n')\n",
    "\n",
    "    fptr.close()"
   ]
  },
  {
   "cell_type": "markdown",
   "id": "b1e10268",
   "metadata": {},
   "source": [
    "# 72 insertionsort1\n",
    "https://www.hackerrank.com/challenges/insertionsort1/problem"
   ]
  },
  {
   "cell_type": "code",
   "execution_count": null,
   "id": "a8e1e24b",
   "metadata": {},
   "outputs": [],
   "source": [
    "#!/bin/python3\n",
    "\n",
    "import math\n",
    "import os\n",
    "import random\n",
    "import re\n",
    "import sys\n",
    "\n",
    "#\n",
    "# Complete the 'insertionSort1' function below.\n",
    "#\n",
    "# The function accepts following parameters:\n",
    "#  1. INTEGER n\n",
    "#  2. INTEGER_ARRAY arr\n",
    "#\n",
    "\n",
    "def swap(i, j, arr):\n",
    "    arr[i], arr[j] = arr[j], arr[i]\n",
    "\n",
    "def insertionSort1(n, arr):\n",
    "    # Write your code here\n",
    "    \n",
    "    last_index = len(arr) - 1\n",
    "    \n",
    "    for i in range(last_index, 0, -1):\n",
    "        new_arr = arr.copy()\n",
    "        new_arr[i] = arr[i - 1]\n",
    "        if arr[i - 1] < arr[i]:\n",
    "            \n",
    "            print(' '.join(list(map(str, arr))))\n",
    "            break\n",
    "        if i-1 == 0:\n",
    "            \n",
    "            swap(i, i-1, arr)\n",
    "            print(' '.join(list(map(str, new_arr))))\n",
    "            print(' '.join(list(map(str, arr))))\n",
    "            break\n",
    "        \n",
    "        print(' '.join(list(map(str, new_arr))))\n",
    "        swap(i, i-1, arr)\n",
    "            \n",
    "        \n",
    "\n",
    "if __name__ == '__main__':\n",
    "    n = int(input().strip())\n",
    "\n",
    "    arr = list(map(int, input().rstrip().split()))\n",
    "\n",
    "    insertionSort1(n, arr)"
   ]
  },
  {
   "cell_type": "markdown",
   "id": "0b5f5fe8",
   "metadata": {},
   "source": [
    "# 73 insertionsort2\n",
    "https://www.hackerrank.com/challenges/insertionsort2/"
   ]
  },
  {
   "cell_type": "code",
   "execution_count": null,
   "id": "e9c6b587",
   "metadata": {},
   "outputs": [],
   "source": [
    "#!/bin/python3\n",
    "\n",
    "import math\n",
    "import os\n",
    "import random\n",
    "import re\n",
    "import sys\n",
    "\n",
    "#\n",
    "# Complete the 'insertionSort2' function below.\n",
    "#\n",
    "# The function accepts following parameters:\n",
    "#  1. INTEGER n\n",
    "#  2. INTEGER_ARRAY arr\n",
    "#\n",
    "\n",
    "def insertionSort2(n, arr):\n",
    "    # Write your code here\n",
    "    \n",
    "    # go through the array left to right, ignoring the first item because it is already sorted\n",
    "    for left_marker in range(1, len(arr)):\n",
    "        \n",
    "        target = arr[left_marker]\n",
    "        right_marker = left_marker - 1\n",
    "        \n",
    "        # we need to shift all elements larger than the one of the left marker up, starting from before the right marker\n",
    "        # once the loop terminates, we have found the place where to insert the target\n",
    "        while right_marker > -1 and arr[right_marker] > target:\n",
    "            arr[right_marker + 1] = arr[right_marker]\n",
    "            right_marker -= 1\n",
    "            \n",
    "        arr[right_marker + 1] = target\n",
    "        print(' '.join(list(map(str, arr))))\n",
    "\n",
    "if __name__ == '__main__':\n",
    "    n = int(input().strip())\n",
    "\n",
    "    arr = list(map(int, input().rstrip().split()))\n",
    "\n",
    "    insertionSort2(n, arr)"
   ]
  },
  {
   "cell_type": "markdown",
   "id": "3e1a98ad",
   "metadata": {},
   "source": [
    "# 74 birthday-cake-candles\n",
    "https://www.hackerrank.com/challenges/birthday-cake-candles/"
   ]
  },
  {
   "cell_type": "code",
   "execution_count": null,
   "id": "0c697f2a",
   "metadata": {},
   "outputs": [],
   "source": [
    "#!/bin/python3\n",
    "\n",
    "import math\n",
    "import os\n",
    "import random\n",
    "import re\n",
    "import sys\n",
    "import functools\n",
    "\n",
    "#\n",
    "# Complete the 'birthdayCakeCandles' function below.\n",
    "#\n",
    "# The function is expected to return an INTEGER.\n",
    "# The function accepts INTEGER_ARRAY candles as parameter.\n",
    "#\n",
    "\n",
    "def birthdayCakeCandles(candles):\n",
    "    # Write your code here\n",
    "    tallest = max(candles)\n",
    "    return candles.count(tallest)\n",
    "\n",
    "if __name__ == '__main__':\n",
    "    fptr = open(os.environ['OUTPUT_PATH'], 'w')\n",
    "\n",
    "    candles_count = int(input().strip())\n",
    "\n",
    "    candles = list(map(int, input().rstrip().split()))\n",
    "\n",
    "    result = birthdayCakeCandles(candles)\n",
    "\n",
    "    fptr.write(str(result) + '\\n')\n",
    "\n",
    "    fptr.close()"
   ]
  },
  {
   "cell_type": "markdown",
   "id": "6158f3b7",
   "metadata": {},
   "source": [
    "# 75 kangaroo\n",
    "https://www.hackerrank.com/challenges/kangaroo/problem"
   ]
  },
  {
   "cell_type": "code",
   "execution_count": null,
   "id": "cf5637b5",
   "metadata": {},
   "outputs": [],
   "source": [
    "#!/bin/python3\n",
    "\n",
    "import math\n",
    "import os\n",
    "import random\n",
    "import re\n",
    "import sys\n",
    "\n",
    "#\n",
    "# Complete the 'kangaroo' function below.\n",
    "#\n",
    "# The function is expected to return a STRING.\n",
    "# The function accepts following parameters:\n",
    "#  1. INTEGER x1\n",
    "#  2. INTEGER v1\n",
    "#  3. INTEGER x2\n",
    "#  4. INTEGER v2\n",
    "#\n",
    "\n",
    "def kangaroo(x1, v1, x2, v2):\n",
    "    # Write your code here\n",
    "    max_x = 10000 * 10000\n",
    "    \n",
    "    while x1 < max_x:\n",
    "        if x1 == x2:\n",
    "            return \"YES\"\n",
    "        \n",
    "        x1 += v1\n",
    "        x2 += v2\n",
    "        \n",
    "    return \"NO\"\n",
    "        \n",
    "\n",
    "if __name__ == '__main__':\n",
    "    fptr = open(os.environ['OUTPUT_PATH'], 'w')\n",
    "\n",
    "    first_multiple_input = input().rstrip().split()\n",
    "\n",
    "    x1 = int(first_multiple_input[0])\n",
    "\n",
    "    v1 = int(first_multiple_input[1])\n",
    "\n",
    "    x2 = int(first_multiple_input[2])\n",
    "\n",
    "    v2 = int(first_multiple_input[3])\n",
    "\n",
    "    result = kangaroo(x1, v1, x2, v2)\n",
    "\n",
    "    fptr.write(result + '\\n')\n",
    "\n",
    "    fptr.close()"
   ]
  },
  {
   "cell_type": "markdown",
   "id": "67162291",
   "metadata": {},
   "source": [
    "# 76 introduction-to-regex\n",
    "https://www.hackerrank.com/challenges/introduction-to-regex/problem"
   ]
  },
  {
   "cell_type": "code",
   "execution_count": null,
   "id": "e428d915",
   "metadata": {},
   "outputs": [],
   "source": [
    "# Enter your code here. Read input from STDIN. Print output to STDOUT\n",
    "import re\n",
    "\n",
    "if __name__ == '__main__':\n",
    "    n_test_cases = int(input())\n",
    "    \n",
    "    for _ in range(n_test_cases):\n",
    "        result = re.match(\"^[\\+|-]?\\d*\\.\\d+$\", input())\n",
    "        if result:\n",
    "            print(True)\n",
    "        else:\n",
    "            print(False)"
   ]
  },
  {
   "cell_type": "markdown",
   "id": "f2fe2c72",
   "metadata": {},
   "source": [
    "# 77 re-split\n",
    "https://www.hackerrank.com/challenges/re-split/problem"
   ]
  },
  {
   "cell_type": "code",
   "execution_count": null,
   "id": "d346c676",
   "metadata": {},
   "outputs": [],
   "source": [
    "regex_pattern = r\"[,|.]+\"    # Do not delete 'r'."
   ]
  },
  {
   "cell_type": "markdown",
   "id": "da4054f8",
   "metadata": {},
   "source": [
    "# 78 re-grou-groups\n",
    "https://www.hackerrank.com/challenges/re-group-groups/"
   ]
  },
  {
   "cell_type": "code",
   "execution_count": null,
   "id": "45006ab8",
   "metadata": {},
   "outputs": [],
   "source": [
    "# Enter your code here. Read input from STDIN. Print output to STDOUT\n",
    "import re\n",
    "\n",
    "if __name__ == '__main__':\n",
    "    s = input()\n",
    "    result = re.search(r\"([a-zA-Z\\d])\\1+\", s)\n",
    "    if result:\n",
    "        print(result.group(1))\n",
    "    else:\n",
    "        print(-1)"
   ]
  },
  {
   "cell_type": "markdown",
   "id": "44064364",
   "metadata": {},
   "source": [
    "# 79 re-findall-re-finditer\n",
    "https://www.hackerrank.com/challenges/re-findall-re-finditer/problem"
   ]
  },
  {
   "cell_type": "code",
   "execution_count": null,
   "id": "b9715440",
   "metadata": {},
   "outputs": [],
   "source": [
    "# Enter your code here. Read input from STDIN. Print output to STDOUT\n",
    "import re\n",
    "\n",
    "if __name__ == '__main__':\n",
    "    s = input()\n",
    "    result = re.findall(r\"(?<=[qwrtypsdfghjklzxcvbnmQWRTYPSDFGHJKLZXCVBNM])([aeiouAEIOU]{2,})(?=[qwrtypsdfghjklzxcvbnmQWRTYPSDFGHJKLZXCVBNM])\", s)\n",
    "    \n",
    "    if result:\n",
    "        for substring in result:\n",
    "            print(substring)\n",
    "    else:\n",
    "        print(-1)"
   ]
  },
  {
   "cell_type": "markdown",
   "id": "e01772a0",
   "metadata": {},
   "source": [
    "# 80 py-set-symmeric-difference-operation\n",
    "https://www.hackerrank.com/challenges/py-set-symmetric-difference-operation/problem"
   ]
  },
  {
   "cell_type": "code",
   "execution_count": null,
   "id": "7a34ef39",
   "metadata": {},
   "outputs": [],
   "source": [
    "# Enter your code here. Read input from STDIN. Print output to STDOUT\n",
    "\n",
    "if __name__ == '__main__':\n",
    "    n_english = int(input())\n",
    "    roll_english = set(map(int, input().split()))\n",
    "    \n",
    "    n_french = int(input())\n",
    "    roll_french = set(map(int, input().split()))\n",
    "    \n",
    "    print(len(roll_english.symmetric_difference(roll_french)))"
   ]
  },
  {
   "cell_type": "markdown",
   "id": "d3d75da9",
   "metadata": {},
   "source": [
    "# 81 text-alignment\n",
    "https://www.hackerrank.com/challenges/text-alignment/problem"
   ]
  },
  {
   "cell_type": "code",
   "execution_count": null,
   "id": "23515fb4",
   "metadata": {},
   "outputs": [],
   "source": [
    "#Replace all ______ with rjust, ljust or center. \n",
    "\n",
    "thickness = int(input()) #This must be an odd number\n",
    "c = 'H'\n",
    "\n",
    "#Top Cone\n",
    "for i in range(thickness):\n",
    "    print((c*i).rjust(thickness-1)+c+(c*i).ljust(thickness-1))\n",
    "\n",
    "#Top Pillars\n",
    "for i in range(thickness+1):\n",
    "    print((c*thickness).center(thickness*2)+(c*thickness).center(thickness*6))\n",
    "\n",
    "#Middle Belt\n",
    "for i in range((thickness+1)//2):\n",
    "    print((c*thickness*5).center(thickness*6))    \n",
    "\n",
    "#Bottom Pillars\n",
    "for i in range(thickness+1):\n",
    "    print((c*thickness).center(thickness*2)+(c*thickness).center(thickness*6))    \n",
    "\n",
    "#Bottom Cone\n",
    "for i in range(thickness):\n",
    "    print(((c*(thickness-i-1)).rjust(thickness)+c+(c*(thickness-i-1)).ljust(thickness)).rjust(thickness*6))"
   ]
  },
  {
   "cell_type": "markdown",
   "id": "6d5f4436",
   "metadata": {},
   "source": [
    "# 82 validating-the-phone-number\n",
    "https://www.hackerrank.com/challenges/validating-the-phone-number/"
   ]
  },
  {
   "cell_type": "code",
   "execution_count": null,
   "id": "d1d2ccd9",
   "metadata": {},
   "outputs": [],
   "source": [
    "# Enter your code here. Read input from STDIN. Print output to STDOUT\n",
    "import re\n",
    "\n",
    "if __name__ == '__main__':\n",
    "    n_phone_numbers = int(input())\n",
    "    regex = r'^[789]\\d{9}$'\n",
    "    \n",
    "    for _ in range(n_phone_numbers):\n",
    "        phone_number = input()\n",
    "        if re.match(regex, phone_number):\n",
    "            print(\"YES\")\n",
    "        else:\n",
    "            print(\"NO\")"
   ]
  },
  {
   "cell_type": "markdown",
   "id": "26bc355b",
   "metadata": {},
   "source": [
    "# 83 validating-email-addresses\n",
    "https://www.hackerrank.com/challenges/validating-named-email-addresses/problem"
   ]
  },
  {
   "cell_type": "code",
   "execution_count": null,
   "id": "7d16cc09",
   "metadata": {},
   "outputs": [],
   "source": [
    "# Enter your code here. Read input from STDIN. Print output to STDOUT\n",
    "import re\n",
    "import email.utils\n",
    "\n",
    "\n",
    "if __name__ == '__main__':\n",
    "    n_email_addresses = int(input())\n",
    "    regex = r'^[a-zA-Z]{1}[a-zA-Z0-9_\\.-]+@[a-zA-Z]+\\.[a-zA-Z]{1,3}$'\n",
    "    \n",
    "    for _ in range(n_email_addresses):\n",
    "        name, email_address = input().split()\n",
    "        email_address_to_check = email_address[1:-1]\n",
    "        if re.match(regex, email_address_to_check):\n",
    "            print(name, email_address)"
   ]
  },
  {
   "cell_type": "markdown",
   "id": "5d476d42",
   "metadata": {},
   "source": [
    "# 84 hex-color-code\n",
    "https://www.hackerrank.com/challenges/hex-color-code/problem"
   ]
  },
  {
   "cell_type": "code",
   "execution_count": null,
   "id": "66ccacee",
   "metadata": {},
   "outputs": [],
   "source": [
    "# Enter your code here. Read input from STDIN. Print output to STDOUT\n",
    "import re\n",
    "\n",
    "if __name__ == '__main__':\n",
    "    n_css_lines = int(input())\n",
    "    \n",
    "    regex = r'#[a-fA-F0-9]{3}[;,)]|#[a-fA-F0-9]{6}[;,)]'\n",
    "    \n",
    "    for _ in range(n_css_lines):\n",
    "        css_line = input()\n",
    "        \n",
    "        matches = re.findall(regex, css_line)\n",
    "        if matches:\n",
    "            for match in matches:\n",
    "                print(match[:-1])"
   ]
  },
  {
   "cell_type": "markdown",
   "id": "aa1333aa",
   "metadata": {},
   "source": [
    "# 85 html-parser-part-1\n",
    "https://www.hackerrank.com/challenges/html-parser-part-1/problem"
   ]
  },
  {
   "cell_type": "code",
   "execution_count": null,
   "id": "079a685a",
   "metadata": {},
   "outputs": [],
   "source": [
    "# Enter your code here. Read input from STDIN. Print output to STDOUT\n",
    "from html.parser import HTMLParser\n",
    "\n",
    "class MyHTMLParser(HTMLParser):\n",
    "    def handle_starttag(self, tag, attrs):\n",
    "        print(f\"Start : {tag}\")\n",
    "        self._print_attrs(attrs)\n",
    "    def handle_endtag(self, tag):\n",
    "        print(f\"End   : {tag}\")\n",
    "    def handle_startendtag(self, tag, attrs):\n",
    "        print(f\"Empty : {tag}\")\n",
    "        self._print_attrs(attrs)\n",
    "                \n",
    "    def _print_attrs(self, attrs):\n",
    "        if attrs:\n",
    "            for attribute, value in attrs:\n",
    "                print(f\"-> {attribute} > {value}\")\n",
    "\n",
    "if __name__ == '__main__':\n",
    "    n_lines = int(input())\n",
    "    \n",
    "    html = ''.join([input() for _ in range(n_lines)])\n",
    "   \n",
    "    parser = MyHTMLParser()\n",
    "    parser.feed(html)"
   ]
  },
  {
   "cell_type": "markdown",
   "id": "30b359ed",
   "metadata": {},
   "source": [
    "# 86 html-parser-part-2\n",
    "https://www.hackerrank.com/challenges/html-parser-part-2/problem"
   ]
  },
  {
   "cell_type": "code",
   "execution_count": null,
   "id": "c270d181",
   "metadata": {},
   "outputs": [],
   "source": [
    "from html.parser import HTMLParser\n",
    "\n",
    "class MyHTMLParser(HTMLParser):\n",
    "    def handle_comment(self, data):\n",
    "        if '\\n' in data:\n",
    "            print(\">>> Multi-line Comment\")\n",
    "        else:\n",
    "            print(\">>> Single-line Comment\")\n",
    "        print(data)\n",
    "          \n",
    "    def handle_data(self, data):\n",
    "        if not data.isspace():\n",
    "            print(\">>> Data\")\n",
    "            print(data)\n",
    "\n",
    "html = \"\"       \n",
    "for i in range(int(input())):\n",
    "    html += input().rstrip()\n",
    "    html += '\\n'\n",
    "    \n",
    "parser = MyHTMLParser()\n",
    "parser.feed(html)\n",
    "parser.close()"
   ]
  },
  {
   "cell_type": "markdown",
   "id": "1e77e2e0",
   "metadata": {},
   "source": [
    "# 87 detect-html-tags-attributes-and-attribute-values\n",
    "https://www.hackerrank.com/challenges/detect-html-tags-attributes-and-attribute-values/problem"
   ]
  },
  {
   "cell_type": "code",
   "execution_count": null,
   "id": "38bccd67",
   "metadata": {},
   "outputs": [],
   "source": [
    "# Enter your code here. Read input from STDIN. Print output to STDOUT\n",
    "from html.parser import HTMLParser\n",
    "\n",
    "class MyHTMLParser(HTMLParser):\n",
    "    def handle_starttag(self, tag, attrs):\n",
    "        print(tag)\n",
    "        self._print_attrs(attrs)\n",
    "    def handle_startendtag(self, tag, attrs):\n",
    "        print(tag)\n",
    "        self._print_attrs(attrs)\n",
    "                \n",
    "    def _print_attrs(self, attrs):\n",
    "        if attrs:\n",
    "            for attribute, value in attrs:\n",
    "                print(f\"-> {attribute} > {value}\")\n",
    "\n",
    "if __name__ == '__main__':\n",
    "    n_html_lines = int(input())\n",
    "    \n",
    "    html = ''.join([input() for _ in range(n_html_lines)])\n",
    "    \n",
    "    MyHTMLParser().feed(html)"
   ]
  }
 ],
 "metadata": {
  "kernelspec": {
   "display_name": "Python 3 (ipykernel)",
   "language": "python",
   "name": "python3"
  },
  "language_info": {
   "codemirror_mode": {
    "name": "ipython",
    "version": 3
   },
   "file_extension": ".py",
   "mimetype": "text/x-python",
   "name": "python",
   "nbconvert_exporter": "python",
   "pygments_lexer": "ipython3",
   "version": "3.9.0"
  }
 },
 "nbformat": 4,
 "nbformat_minor": 5
}
